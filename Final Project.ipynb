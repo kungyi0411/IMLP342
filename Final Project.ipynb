{
 "cells": [
  {
   "cell_type": "code",
   "execution_count": 1,
   "id": "4ddb7668",
   "metadata": {},
   "outputs": [],
   "source": [
    "#載入套件\n",
    "import pandas as pd\n",
    "import numpy as np\n",
    "import matplotlib.pyplot as plt\n",
    "import seaborn as sns\n",
    "%matplotlib inline"
   ]
  },
  {
   "cell_type": "code",
   "execution_count": 2,
   "id": "b902c472",
   "metadata": {},
   "outputs": [
    {
     "data": {
      "text/html": [
       "<div>\n",
       "<style scoped>\n",
       "    .dataframe tbody tr th:only-of-type {\n",
       "        vertical-align: middle;\n",
       "    }\n",
       "\n",
       "    .dataframe tbody tr th {\n",
       "        vertical-align: top;\n",
       "    }\n",
       "\n",
       "    .dataframe thead th {\n",
       "        text-align: right;\n",
       "    }\n",
       "</style>\n",
       "<table border=\"1\" class=\"dataframe\">\n",
       "  <thead>\n",
       "    <tr style=\"text-align: right;\">\n",
       "      <th></th>\n",
       "      <th>Year</th>\n",
       "      <th>Pos</th>\n",
       "      <th>Age</th>\n",
       "      <th>Tm</th>\n",
       "      <th>MP</th>\n",
       "      <th>FT</th>\n",
       "      <th>TRB</th>\n",
       "      <th>AST</th>\n",
       "      <th>STL</th>\n",
       "      <th>BLK</th>\n",
       "      <th>TOV</th>\n",
       "      <th>PF</th>\n",
       "      <th>PTS</th>\n",
       "    </tr>\n",
       "  </thead>\n",
       "  <tbody>\n",
       "    <tr>\n",
       "      <th>0</th>\n",
       "      <td>2003</td>\n",
       "      <td>SF</td>\n",
       "      <td>39</td>\n",
       "      <td>WAS</td>\n",
       "      <td>3031</td>\n",
       "      <td>266</td>\n",
       "      <td>497</td>\n",
       "      <td>311</td>\n",
       "      <td>123</td>\n",
       "      <td>39</td>\n",
       "      <td>173</td>\n",
       "      <td>171</td>\n",
       "      <td>1640</td>\n",
       "    </tr>\n",
       "    <tr>\n",
       "      <th>1</th>\n",
       "      <td>2002</td>\n",
       "      <td>SF</td>\n",
       "      <td>38</td>\n",
       "      <td>WAS</td>\n",
       "      <td>2093</td>\n",
       "      <td>263</td>\n",
       "      <td>339</td>\n",
       "      <td>310</td>\n",
       "      <td>85</td>\n",
       "      <td>26</td>\n",
       "      <td>162</td>\n",
       "      <td>119</td>\n",
       "      <td>1375</td>\n",
       "    </tr>\n",
       "    <tr>\n",
       "      <th>2</th>\n",
       "      <td>2001</td>\n",
       "      <td>0</td>\n",
       "      <td>37</td>\n",
       "      <td>0</td>\n",
       "      <td>0</td>\n",
       "      <td>0</td>\n",
       "      <td>0</td>\n",
       "      <td>0</td>\n",
       "      <td>0</td>\n",
       "      <td>0</td>\n",
       "      <td>0</td>\n",
       "      <td>0</td>\n",
       "      <td>0</td>\n",
       "    </tr>\n",
       "    <tr>\n",
       "      <th>3</th>\n",
       "      <td>2000</td>\n",
       "      <td>0</td>\n",
       "      <td>36</td>\n",
       "      <td>0</td>\n",
       "      <td>0</td>\n",
       "      <td>0</td>\n",
       "      <td>0</td>\n",
       "      <td>0</td>\n",
       "      <td>0</td>\n",
       "      <td>0</td>\n",
       "      <td>0</td>\n",
       "      <td>0</td>\n",
       "      <td>0</td>\n",
       "    </tr>\n",
       "    <tr>\n",
       "      <th>4</th>\n",
       "      <td>1999</td>\n",
       "      <td>0</td>\n",
       "      <td>35</td>\n",
       "      <td>0</td>\n",
       "      <td>0</td>\n",
       "      <td>0</td>\n",
       "      <td>0</td>\n",
       "      <td>0</td>\n",
       "      <td>0</td>\n",
       "      <td>0</td>\n",
       "      <td>0</td>\n",
       "      <td>0</td>\n",
       "      <td>0</td>\n",
       "    </tr>\n",
       "    <tr>\n",
       "      <th>5</th>\n",
       "      <td>1998</td>\n",
       "      <td>SG</td>\n",
       "      <td>34</td>\n",
       "      <td>CHI</td>\n",
       "      <td>3181</td>\n",
       "      <td>565</td>\n",
       "      <td>475</td>\n",
       "      <td>283</td>\n",
       "      <td>141</td>\n",
       "      <td>45</td>\n",
       "      <td>185</td>\n",
       "      <td>151</td>\n",
       "      <td>2357</td>\n",
       "    </tr>\n",
       "    <tr>\n",
       "      <th>6</th>\n",
       "      <td>1997</td>\n",
       "      <td>SG</td>\n",
       "      <td>33</td>\n",
       "      <td>CHI</td>\n",
       "      <td>3106</td>\n",
       "      <td>480</td>\n",
       "      <td>482</td>\n",
       "      <td>352</td>\n",
       "      <td>140</td>\n",
       "      <td>44</td>\n",
       "      <td>166</td>\n",
       "      <td>156</td>\n",
       "      <td>2431</td>\n",
       "    </tr>\n",
       "    <tr>\n",
       "      <th>7</th>\n",
       "      <td>1996</td>\n",
       "      <td>SG</td>\n",
       "      <td>32</td>\n",
       "      <td>CHI</td>\n",
       "      <td>3090</td>\n",
       "      <td>548</td>\n",
       "      <td>543</td>\n",
       "      <td>352</td>\n",
       "      <td>180</td>\n",
       "      <td>42</td>\n",
       "      <td>197</td>\n",
       "      <td>195</td>\n",
       "      <td>2491</td>\n",
       "    </tr>\n",
       "    <tr>\n",
       "      <th>8</th>\n",
       "      <td>1995</td>\n",
       "      <td>SG</td>\n",
       "      <td>31</td>\n",
       "      <td>CHI</td>\n",
       "      <td>668</td>\n",
       "      <td>109</td>\n",
       "      <td>117</td>\n",
       "      <td>90</td>\n",
       "      <td>30</td>\n",
       "      <td>13</td>\n",
       "      <td>35</td>\n",
       "      <td>47</td>\n",
       "      <td>457</td>\n",
       "    </tr>\n",
       "    <tr>\n",
       "      <th>9</th>\n",
       "      <td>1994</td>\n",
       "      <td>0</td>\n",
       "      <td>30</td>\n",
       "      <td>0</td>\n",
       "      <td>0</td>\n",
       "      <td>0</td>\n",
       "      <td>0</td>\n",
       "      <td>0</td>\n",
       "      <td>0</td>\n",
       "      <td>0</td>\n",
       "      <td>0</td>\n",
       "      <td>0</td>\n",
       "      <td>0</td>\n",
       "    </tr>\n",
       "  </tbody>\n",
       "</table>\n",
       "</div>"
      ],
      "text/plain": [
       "   Year Pos  Age   Tm    MP   FT  TRB  AST  STL  BLK  TOV   PF   PTS\n",
       "0  2003  SF   39  WAS  3031  266  497  311  123   39  173  171  1640\n",
       "1  2002  SF   38  WAS  2093  263  339  310   85   26  162  119  1375\n",
       "2  2001   0   37    0     0    0    0    0    0    0    0    0     0\n",
       "3  2000   0   36    0     0    0    0    0    0    0    0    0     0\n",
       "4  1999   0   35    0     0    0    0    0    0    0    0    0     0\n",
       "5  1998  SG   34  CHI  3181  565  475  283  141   45  185  151  2357\n",
       "6  1997  SG   33  CHI  3106  480  482  352  140   44  166  156  2431\n",
       "7  1996  SG   32  CHI  3090  548  543  352  180   42  197  195  2491\n",
       "8  1995  SG   31  CHI   668  109  117   90   30   13   35   47   457\n",
       "9  1994   0   30    0     0    0    0    0    0    0    0    0     0"
      ]
     },
     "execution_count": 2,
     "metadata": {},
     "output_type": "execute_result"
    }
   ],
   "source": [
    "#使用資料夾內Michael Jordan的資料集，練習邏輯迴歸的處理邏輯\n",
    "train = pd.read_csv('data/michael_jordan.csv')\n",
    "train.head(10)\n",
    "\n",
    "#Year:年度\n",
    "#Pos:位置 ~ SF:Small Forward ; SG:Shooting guard \n",
    "#Age:年紀\n",
    "#Tm:隊伍\n",
    "#MP:Minutes Played 出場時間\n",
    "#FT:Free Throws 罰球\n",
    "#TRB:Total Rebounds 籃板 \n",
    "#AST:Assists 助攻 \n",
    "#STL:Steals 抄截 \n",
    "#BLK:Blocked shots 阻攻 \n",
    "#TOV:Turnover 失誤 \n",
    "#PF:Personal foul 犯規 \n",
    "#PTS:Points 得分 "
   ]
  },
  {
   "cell_type": "code",
   "execution_count": 3,
   "id": "2dbb3bb7",
   "metadata": {},
   "outputs": [
    {
     "data": {
      "text/plain": [
       "<AxesSubplot:>"
      ]
     },
     "execution_count": 3,
     "metadata": {},
     "output_type": "execute_result"
    },
    {
     "data": {
      "image/png": "[encoded data removed]",
      "text/plain": [
       "<Figure size 432x288 with 1 Axes>"
      ]
     },
     "metadata": {
      "needs_background": "light"
     },
     "output_type": "display_data"
    }
   ],
   "source": [
    "#探索資料\n",
    "#用heatmap(.isnull()來找出缺失的資料在哪些欄位。)\n",
    "sns.heatmap(train.isnull(),yticklabels=False,cbar=False,cmap='viridis')\n",
    "\n",
    "#並無缺少的資料。"
   ]
  },
  {
   "cell_type": "code",
   "execution_count": 24,
   "id": "7b24f881",
   "metadata": {},
   "outputs": [
    {
     "data": {
      "text/plain": [
       "<AxesSubplot:xlabel='Age', ylabel='PTS'>"
      ]
     },
     "execution_count": 24,
     "metadata": {},
     "output_type": "execute_result"
    },
    {
     "data": {
      "image/png": "[encoded data removed]",
      "text/plain": [
       "<Figure size 432x288 with 1 Axes>"
      ]
     },
     "metadata": {
      "needs_background": "light"
     },
     "output_type": "display_data"
    }
   ],
   "source": [
    "#用barplot來看AGE是否影響PTS。\n",
    "sns.barplot(x='Age',y='PTS',data=train)"
   ]
  },
  {
   "cell_type": "code",
   "execution_count": 23,
   "id": "eaa6c186",
   "metadata": {},
   "outputs": [
    {
     "data": {
      "text/plain": [
       "<AxesSubplot:xlabel='Age', ylabel='MP'>"
      ]
     },
     "execution_count": 23,
     "metadata": {},
     "output_type": "execute_result"
    },
    {
     "data": {
      "image/png": "[encoded data removed]",
      "text/plain": [
       "<Figure size 432x288 with 1 Axes>"
      ]
     },
     "metadata": {
      "needs_background": "light"
     },
     "output_type": "display_data"
    }
   ],
   "source": [
    "#Age是否也影響MP出場時間?\n",
    "sns.barplot(x='Age',y='MP',data=train)"
   ]
  },
  {
   "cell_type": "code",
   "execution_count": 27,
   "id": "8e2a6099",
   "metadata": {},
   "outputs": [
    {
     "data": {
      "text/plain": [
       "<AxesSubplot:xlabel='Age', ylabel='TOV'>"
      ]
     },
     "execution_count": 27,
     "metadata": {},
     "output_type": "execute_result"
    },
    {
     "data": {
      "image/png": "[encoded data removed]",
      "text/plain": [
       "<Figure size 432x288 with 1 Axes>"
      ]
     },
     "metadata": {
      "needs_background": "light"
     },
     "output_type": "display_data"
    }
   ],
   "source": [
    "#Age是否也影響TOV失誤?\n",
    "sns.barplot(x='Age',y='TOV',data=train)"
   ]
  },
  {
   "cell_type": "code",
   "execution_count": 26,
   "id": "4fae871f",
   "metadata": {},
   "outputs": [
    {
     "data": {
      "text/plain": [
       "<seaborn.axisgrid.FacetGrid at 0x7ff91406b460>"
      ]
     },
     "execution_count": 26,
     "metadata": {},
     "output_type": "execute_result"
    },
    {
     "data": {
      "image/png": "[encoded data removed]",
      "text/plain": [
       "<Figure size 360x360 with 1 Axes>"
      ]
     },
     "metadata": {
      "needs_background": "light"
     },
     "output_type": "display_data"
    }
   ],
   "source": [
    "#用直方圖看PTS得分分佈。\n",
    "sns.displot(train['PTS'].dropna(),kde=False,bins=30)"
   ]
  },
  {
   "cell_type": "code",
   "execution_count": 7,
   "id": "8a7487c6",
   "metadata": {},
   "outputs": [
    {
     "data": {
      "text/plain": [
       "<seaborn.axisgrid.FacetGrid at 0x7ff9131f8670>"
      ]
     },
     "execution_count": 7,
     "metadata": {},
     "output_type": "execute_result"
    },
    {
     "data": {
      "image/png": "[encoded data removed]",
      "text/plain": [
       "<Figure size 360x360 with 1 Axes>"
      ]
     },
     "metadata": {
      "needs_background": "light"
     },
     "output_type": "display_data"
    }
   ],
   "source": [
    "#用直方圖看FT分佈。\n",
    "sns.displot(train['FT'].dropna(),kde=False,bins=30)"
   ]
  },
  {
   "cell_type": "code",
   "execution_count": 8,
   "id": "5ae2f91f",
   "metadata": {},
   "outputs": [
    {
     "data": {
      "text/plain": [
       "<AxesSubplot:>"
      ]
     },
     "execution_count": 8,
     "metadata": {},
     "output_type": "execute_result"
    },
    {
     "data": {
      "image/png": "[encoded data removed]",
      "text/plain": [
       "<Figure size 720x288 with 1 Axes>"
      ]
     },
     "metadata": {
      "needs_background": "light"
     },
     "output_type": "display_data"
    }
   ],
   "source": [
    "#用直方圖看MP出場時間分佈\n",
    "train['MP'].hist(bins=40,figsize=(10,4))"
   ]
  },
  {
   "cell_type": "code",
   "execution_count": 9,
   "id": "39c8a2de",
   "metadata": {},
   "outputs": [],
   "source": [
    "train.dropna(inplace=True) #inplace： False: 返回新的數據集（默認） True: 在原數據集上操作"
   ]
  },
  {
   "cell_type": "code",
   "execution_count": 10,
   "id": "b191dc95",
   "metadata": {},
   "outputs": [
    {
     "data": {
      "text/html": [
       "<div>\n",
       "<style scoped>\n",
       "    .dataframe tbody tr th:only-of-type {\n",
       "        vertical-align: middle;\n",
       "    }\n",
       "\n",
       "    .dataframe tbody tr th {\n",
       "        vertical-align: top;\n",
       "    }\n",
       "\n",
       "    .dataframe thead th {\n",
       "        text-align: right;\n",
       "    }\n",
       "</style>\n",
       "<table border=\"1\" class=\"dataframe\">\n",
       "  <thead>\n",
       "    <tr style=\"text-align: right;\">\n",
       "      <th></th>\n",
       "      <th>CHI</th>\n",
       "      <th>WAS</th>\n",
       "    </tr>\n",
       "  </thead>\n",
       "  <tbody>\n",
       "    <tr>\n",
       "      <th>0</th>\n",
       "      <td>0</td>\n",
       "      <td>1</td>\n",
       "    </tr>\n",
       "    <tr>\n",
       "      <th>1</th>\n",
       "      <td>0</td>\n",
       "      <td>1</td>\n",
       "    </tr>\n",
       "    <tr>\n",
       "      <th>2</th>\n",
       "      <td>0</td>\n",
       "      <td>0</td>\n",
       "    </tr>\n",
       "    <tr>\n",
       "      <th>3</th>\n",
       "      <td>0</td>\n",
       "      <td>0</td>\n",
       "    </tr>\n",
       "    <tr>\n",
       "      <th>4</th>\n",
       "      <td>0</td>\n",
       "      <td>0</td>\n",
       "    </tr>\n",
       "  </tbody>\n",
       "</table>\n",
       "</div>"
      ],
      "text/plain": [
       "   CHI  WAS\n",
       "0    0    1\n",
       "1    0    1\n",
       "2    0    0\n",
       "3    0    0\n",
       "4    0    0"
      ]
     },
     "execution_count": 10,
     "metadata": {},
     "output_type": "execute_result"
    }
   ],
   "source": [
    "#虛擬變數範例\n",
    "#使用pandas(d.get_dummies)將Tm隊伍從類別資料轉為數值變數。\n",
    "Tm = pd.get_dummies(train['Tm'],drop_first=True)\n",
    "#請將drop_first=True，如果為True會刪除第一個類別值。\n",
    "#本來若有k個level，drop_first=True會只剩下k-1個level，降低共線性的可能\n",
    "Tm.head()"
   ]
  },
  {
   "cell_type": "code",
   "execution_count": 11,
   "id": "ed9dd0a9",
   "metadata": {},
   "outputs": [
    {
     "data": {
      "text/html": [
       "<div>\n",
       "<style scoped>\n",
       "    .dataframe tbody tr th:only-of-type {\n",
       "        vertical-align: middle;\n",
       "    }\n",
       "\n",
       "    .dataframe tbody tr th {\n",
       "        vertical-align: top;\n",
       "    }\n",
       "\n",
       "    .dataframe thead th {\n",
       "        text-align: right;\n",
       "    }\n",
       "</style>\n",
       "<table border=\"1\" class=\"dataframe\">\n",
       "  <thead>\n",
       "    <tr style=\"text-align: right;\">\n",
       "      <th></th>\n",
       "      <th>SF</th>\n",
       "      <th>SG</th>\n",
       "    </tr>\n",
       "  </thead>\n",
       "  <tbody>\n",
       "    <tr>\n",
       "      <th>0</th>\n",
       "      <td>1</td>\n",
       "      <td>0</td>\n",
       "    </tr>\n",
       "    <tr>\n",
       "      <th>1</th>\n",
       "      <td>1</td>\n",
       "      <td>0</td>\n",
       "    </tr>\n",
       "    <tr>\n",
       "      <th>2</th>\n",
       "      <td>0</td>\n",
       "      <td>0</td>\n",
       "    </tr>\n",
       "    <tr>\n",
       "      <th>3</th>\n",
       "      <td>0</td>\n",
       "      <td>0</td>\n",
       "    </tr>\n",
       "    <tr>\n",
       "      <th>4</th>\n",
       "      <td>0</td>\n",
       "      <td>0</td>\n",
       "    </tr>\n",
       "  </tbody>\n",
       "</table>\n",
       "</div>"
      ],
      "text/plain": [
       "   SF  SG\n",
       "0   1   0\n",
       "1   1   0\n",
       "2   0   0\n",
       "3   0   0\n",
       "4   0   0"
      ]
     },
     "execution_count": 11,
     "metadata": {},
     "output_type": "execute_result"
    }
   ],
   "source": [
    "#使用pandas將Pos位置從類別資料改換為數值變數(drop_first=True)\n",
    "Pos = pd.get_dummies(train['Pos'],drop_first=True)\n",
    "Pos.head()"
   ]
  },
  {
   "cell_type": "code",
   "execution_count": 12,
   "id": "6efac4b1",
   "metadata": {},
   "outputs": [
    {
     "data": {
      "text/html": [
       "<div>\n",
       "<style scoped>\n",
       "    .dataframe tbody tr th:only-of-type {\n",
       "        vertical-align: middle;\n",
       "    }\n",
       "\n",
       "    .dataframe tbody tr th {\n",
       "        vertical-align: top;\n",
       "    }\n",
       "\n",
       "    .dataframe thead th {\n",
       "        text-align: right;\n",
       "    }\n",
       "</style>\n",
       "<table border=\"1\" class=\"dataframe\">\n",
       "  <thead>\n",
       "    <tr style=\"text-align: right;\">\n",
       "      <th></th>\n",
       "      <th>Year</th>\n",
       "      <th>Pos</th>\n",
       "      <th>Age</th>\n",
       "      <th>Tm</th>\n",
       "      <th>MP</th>\n",
       "      <th>FT</th>\n",
       "      <th>TRB</th>\n",
       "      <th>AST</th>\n",
       "      <th>STL</th>\n",
       "      <th>BLK</th>\n",
       "      <th>TOV</th>\n",
       "      <th>PF</th>\n",
       "      <th>PTS</th>\n",
       "      <th>CHI</th>\n",
       "      <th>WAS</th>\n",
       "      <th>SF</th>\n",
       "      <th>SG</th>\n",
       "    </tr>\n",
       "  </thead>\n",
       "  <tbody>\n",
       "    <tr>\n",
       "      <th>0</th>\n",
       "      <td>2003</td>\n",
       "      <td>SF</td>\n",
       "      <td>39</td>\n",
       "      <td>WAS</td>\n",
       "      <td>3031</td>\n",
       "      <td>266</td>\n",
       "      <td>497</td>\n",
       "      <td>311</td>\n",
       "      <td>123</td>\n",
       "      <td>39</td>\n",
       "      <td>173</td>\n",
       "      <td>171</td>\n",
       "      <td>1640</td>\n",
       "      <td>0</td>\n",
       "      <td>1</td>\n",
       "      <td>1</td>\n",
       "      <td>0</td>\n",
       "    </tr>\n",
       "    <tr>\n",
       "      <th>1</th>\n",
       "      <td>2002</td>\n",
       "      <td>SF</td>\n",
       "      <td>38</td>\n",
       "      <td>WAS</td>\n",
       "      <td>2093</td>\n",
       "      <td>263</td>\n",
       "      <td>339</td>\n",
       "      <td>310</td>\n",
       "      <td>85</td>\n",
       "      <td>26</td>\n",
       "      <td>162</td>\n",
       "      <td>119</td>\n",
       "      <td>1375</td>\n",
       "      <td>0</td>\n",
       "      <td>1</td>\n",
       "      <td>1</td>\n",
       "      <td>0</td>\n",
       "    </tr>\n",
       "    <tr>\n",
       "      <th>2</th>\n",
       "      <td>2001</td>\n",
       "      <td>0</td>\n",
       "      <td>37</td>\n",
       "      <td>0</td>\n",
       "      <td>0</td>\n",
       "      <td>0</td>\n",
       "      <td>0</td>\n",
       "      <td>0</td>\n",
       "      <td>0</td>\n",
       "      <td>0</td>\n",
       "      <td>0</td>\n",
       "      <td>0</td>\n",
       "      <td>0</td>\n",
       "      <td>0</td>\n",
       "      <td>0</td>\n",
       "      <td>0</td>\n",
       "      <td>0</td>\n",
       "    </tr>\n",
       "    <tr>\n",
       "      <th>3</th>\n",
       "      <td>2000</td>\n",
       "      <td>0</td>\n",
       "      <td>36</td>\n",
       "      <td>0</td>\n",
       "      <td>0</td>\n",
       "      <td>0</td>\n",
       "      <td>0</td>\n",
       "      <td>0</td>\n",
       "      <td>0</td>\n",
       "      <td>0</td>\n",
       "      <td>0</td>\n",
       "      <td>0</td>\n",
       "      <td>0</td>\n",
       "      <td>0</td>\n",
       "      <td>0</td>\n",
       "      <td>0</td>\n",
       "      <td>0</td>\n",
       "    </tr>\n",
       "    <tr>\n",
       "      <th>4</th>\n",
       "      <td>1999</td>\n",
       "      <td>0</td>\n",
       "      <td>35</td>\n",
       "      <td>0</td>\n",
       "      <td>0</td>\n",
       "      <td>0</td>\n",
       "      <td>0</td>\n",
       "      <td>0</td>\n",
       "      <td>0</td>\n",
       "      <td>0</td>\n",
       "      <td>0</td>\n",
       "      <td>0</td>\n",
       "      <td>0</td>\n",
       "      <td>0</td>\n",
       "      <td>0</td>\n",
       "      <td>0</td>\n",
       "      <td>0</td>\n",
       "    </tr>\n",
       "  </tbody>\n",
       "</table>\n",
       "</div>"
      ],
      "text/plain": [
       "   Year Pos  Age   Tm    MP   FT  TRB  AST  STL  BLK  TOV   PF   PTS  CHI  \\\n",
       "0  2003  SF   39  WAS  3031  266  497  311  123   39  173  171  1640    0   \n",
       "1  2002  SF   38  WAS  2093  263  339  310   85   26  162  119  1375    0   \n",
       "2  2001   0   37    0     0    0    0    0    0    0    0    0     0    0   \n",
       "3  2000   0   36    0     0    0    0    0    0    0    0    0     0    0   \n",
       "4  1999   0   35    0     0    0    0    0    0    0    0    0     0    0   \n",
       "\n",
       "   WAS  SF  SG  \n",
       "0    1   1   0  \n",
       "1    1   1   0  \n",
       "2    0   0   0  \n",
       "3    0   0   0  \n",
       "4    0   0   0  "
      ]
     },
     "execution_count": 12,
     "metadata": {},
     "output_type": "execute_result"
    }
   ],
   "source": [
    "#將Tm隊伍與Pos位置的數值變數和原始的data結合\n",
    "train = pd.concat([train,Tm,Pos],axis=1)\n",
    "train.head()"
   ]
  },
  {
   "cell_type": "code",
   "execution_count": 13,
   "id": "8b3746c7",
   "metadata": {},
   "outputs": [
    {
     "data": {
      "text/html": [
       "<div>\n",
       "<style scoped>\n",
       "    .dataframe tbody tr th:only-of-type {\n",
       "        vertical-align: middle;\n",
       "    }\n",
       "\n",
       "    .dataframe tbody tr th {\n",
       "        vertical-align: top;\n",
       "    }\n",
       "\n",
       "    .dataframe thead th {\n",
       "        text-align: right;\n",
       "    }\n",
       "</style>\n",
       "<table border=\"1\" class=\"dataframe\">\n",
       "  <thead>\n",
       "    <tr style=\"text-align: right;\">\n",
       "      <th></th>\n",
       "      <th>Year</th>\n",
       "      <th>Age</th>\n",
       "      <th>MP</th>\n",
       "      <th>FT</th>\n",
       "      <th>TRB</th>\n",
       "      <th>AST</th>\n",
       "      <th>STL</th>\n",
       "      <th>BLK</th>\n",
       "      <th>TOV</th>\n",
       "      <th>PF</th>\n",
       "      <th>PTS</th>\n",
       "      <th>CHI</th>\n",
       "      <th>WAS</th>\n",
       "      <th>SF</th>\n",
       "      <th>SG</th>\n",
       "    </tr>\n",
       "  </thead>\n",
       "  <tbody>\n",
       "    <tr>\n",
       "      <th>0</th>\n",
       "      <td>2003</td>\n",
       "      <td>39</td>\n",
       "      <td>3031</td>\n",
       "      <td>266</td>\n",
       "      <td>497</td>\n",
       "      <td>311</td>\n",
       "      <td>123</td>\n",
       "      <td>39</td>\n",
       "      <td>173</td>\n",
       "      <td>171</td>\n",
       "      <td>1640</td>\n",
       "      <td>0</td>\n",
       "      <td>1</td>\n",
       "      <td>1</td>\n",
       "      <td>0</td>\n",
       "    </tr>\n",
       "    <tr>\n",
       "      <th>1</th>\n",
       "      <td>2002</td>\n",
       "      <td>38</td>\n",
       "      <td>2093</td>\n",
       "      <td>263</td>\n",
       "      <td>339</td>\n",
       "      <td>310</td>\n",
       "      <td>85</td>\n",
       "      <td>26</td>\n",
       "      <td>162</td>\n",
       "      <td>119</td>\n",
       "      <td>1375</td>\n",
       "      <td>0</td>\n",
       "      <td>1</td>\n",
       "      <td>1</td>\n",
       "      <td>0</td>\n",
       "    </tr>\n",
       "    <tr>\n",
       "      <th>2</th>\n",
       "      <td>2001</td>\n",
       "      <td>37</td>\n",
       "      <td>0</td>\n",
       "      <td>0</td>\n",
       "      <td>0</td>\n",
       "      <td>0</td>\n",
       "      <td>0</td>\n",
       "      <td>0</td>\n",
       "      <td>0</td>\n",
       "      <td>0</td>\n",
       "      <td>0</td>\n",
       "      <td>0</td>\n",
       "      <td>0</td>\n",
       "      <td>0</td>\n",
       "      <td>0</td>\n",
       "    </tr>\n",
       "    <tr>\n",
       "      <th>3</th>\n",
       "      <td>2000</td>\n",
       "      <td>36</td>\n",
       "      <td>0</td>\n",
       "      <td>0</td>\n",
       "      <td>0</td>\n",
       "      <td>0</td>\n",
       "      <td>0</td>\n",
       "      <td>0</td>\n",
       "      <td>0</td>\n",
       "      <td>0</td>\n",
       "      <td>0</td>\n",
       "      <td>0</td>\n",
       "      <td>0</td>\n",
       "      <td>0</td>\n",
       "      <td>0</td>\n",
       "    </tr>\n",
       "    <tr>\n",
       "      <th>4</th>\n",
       "      <td>1999</td>\n",
       "      <td>35</td>\n",
       "      <td>0</td>\n",
       "      <td>0</td>\n",
       "      <td>0</td>\n",
       "      <td>0</td>\n",
       "      <td>0</td>\n",
       "      <td>0</td>\n",
       "      <td>0</td>\n",
       "      <td>0</td>\n",
       "      <td>0</td>\n",
       "      <td>0</td>\n",
       "      <td>0</td>\n",
       "      <td>0</td>\n",
       "      <td>0</td>\n",
       "    </tr>\n",
       "  </tbody>\n",
       "</table>\n",
       "</div>"
      ],
      "text/plain": [
       "   Year  Age    MP   FT  TRB  AST  STL  BLK  TOV   PF   PTS  CHI  WAS  SF  SG\n",
       "0  2003   39  3031  266  497  311  123   39  173  171  1640    0    1   1   0\n",
       "1  2002   38  2093  263  339  310   85   26  162  119  1375    0    1   1   0\n",
       "2  2001   37     0    0    0    0    0    0    0    0     0    0    0   0   0\n",
       "3  2000   36     0    0    0    0    0    0    0    0     0    0    0   0   0\n",
       "4  1999   35     0    0    0    0    0    0    0    0     0    0    0   0   0"
      ]
     },
     "execution_count": 13,
     "metadata": {},
     "output_type": "execute_result"
    }
   ],
   "source": [
    "#將原始的Tm隊伍與Pos位置欄位棄用\n",
    "train.drop(['Pos','Tm'],axis=1,inplace=True)\n",
    "train.head()"
   ]
  },
  {
   "cell_type": "code",
   "execution_count": 14,
   "id": "b64d2524",
   "metadata": {},
   "outputs": [],
   "source": [
    "#建立feature資料集(選取CHI以外所有欄位)與target資料集(CHI)\n",
    "X = train.drop('CHI',axis=1)\n",
    "y = train['CHI']"
   ]
  },
  {
   "cell_type": "code",
   "execution_count": 15,
   "id": "2c44e634",
   "metadata": {},
   "outputs": [],
   "source": [
    "#載入訓練組及測試組分組套件\n",
    "from sklearn.model_selection import train_test_split"
   ]
  },
  {
   "cell_type": "code",
   "execution_count": 37,
   "id": "3800b5b8",
   "metadata": {},
   "outputs": [],
   "source": [
    "#設定隨機種子(random_state)為101，測試組比例佔30%\n",
    "X_train, X_test, y_train, y_test = train_test_split(X,y,test_size=0.3,random_state=101)"
   ]
  },
  {
   "cell_type": "code",
   "execution_count": 38,
   "id": "293d97ca",
   "metadata": {},
   "outputs": [],
   "source": [
    "#載入邏輯回歸\n",
    "from sklearn.linear_model import LogisticRegression"
   ]
  },
  {
   "cell_type": "code",
   "execution_count": 39,
   "id": "e5f9c15a",
   "metadata": {},
   "outputs": [
    {
     "data": {
      "text/plain": [
       "LogisticRegression()"
      ]
     },
     "execution_count": 39,
     "metadata": {},
     "output_type": "execute_result"
    }
   ],
   "source": [
    "#建立訓練組邏輯迴歸模型\n",
    "logmodel = LogisticRegression()\n",
    "logmodel.fit(X_train,y_train)"
   ]
  },
  {
   "cell_type": "code",
   "execution_count": 40,
   "id": "21ff2089",
   "metadata": {},
   "outputs": [],
   "source": [
    "#使用模型進行測試集資料的預測\n",
    "predictions = logmodel.predict(X_test)\n",
    "predictions2 = logmodel.predict(X_train)"
   ]
  },
  {
   "cell_type": "code",
   "execution_count": 41,
   "id": "37b6233d",
   "metadata": {
    "scrolled": false
   },
   "outputs": [
    {
     "name": "stdout",
     "output_type": "stream",
     "text": [
      "[0 1 0 0 0 1]\n",
      "[1 1 1 0 1 0 1 1 1 1 1 1 1]\n"
     ]
    }
   ],
   "source": [
    "#ground truth\n",
    "print(y_test.values)\n",
    "print(y_train.values)"
   ]
  },
  {
   "cell_type": "markdown",
   "id": "09a5fe92",
   "metadata": {},
   "source": [
    "計算accuracy及結果顯示\n",
    "accuracy\n",
    "error_index #錯誤答案是哪幾筆資料\n",
    "miss classification #錯誤答案\n",
    "錯誤欄位的正確之原始資料表格"
   ]
  },
  {
   "cell_type": "code",
   "execution_count": 42,
   "id": "c17ee7e9",
   "metadata": {},
   "outputs": [
    {
     "name": "stdout",
     "output_type": "stream",
     "text": [
      "train accuracy: 1.0\n",
      "test accuracy: 0.6666666666666667\n"
     ]
    }
   ],
   "source": [
    "error_index2=np.where(predictions2!=y_train.values)[0]\n",
    "print('train accuracy:',1-len(error_index2)/len(X_train))\n",
    "error_index=np.where(predictions!=y_test.values)[0]\n",
    "print('test accuracy:',1-len(error_index)/len(X_test))\n",
    "\n",
    "#test accuracy 66.7%，可能因為樣本數太少，如MJ多打幾年，應該會更準確。"
   ]
  },
  {
   "cell_type": "code",
   "execution_count": 43,
   "id": "e112d02e",
   "metadata": {},
   "outputs": [
    {
     "name": "stdout",
     "output_type": "stream",
     "text": [
      "error_index: [2 4]\n",
      "miss classification : [1 1]\n"
     ]
    },
    {
     "data": {
      "text/html": [
       "<div>\n",
       "<style scoped>\n",
       "    .dataframe tbody tr th:only-of-type {\n",
       "        vertical-align: middle;\n",
       "    }\n",
       "\n",
       "    .dataframe tbody tr th {\n",
       "        vertical-align: top;\n",
       "    }\n",
       "\n",
       "    .dataframe thead th {\n",
       "        text-align: right;\n",
       "    }\n",
       "</style>\n",
       "<table border=\"1\" class=\"dataframe\">\n",
       "  <thead>\n",
       "    <tr style=\"text-align: right;\">\n",
       "      <th></th>\n",
       "      <th>Year</th>\n",
       "      <th>Age</th>\n",
       "      <th>MP</th>\n",
       "      <th>FT</th>\n",
       "      <th>TRB</th>\n",
       "      <th>AST</th>\n",
       "      <th>STL</th>\n",
       "      <th>BLK</th>\n",
       "      <th>TOV</th>\n",
       "      <th>PF</th>\n",
       "      <th>PTS</th>\n",
       "      <th>CHI</th>\n",
       "      <th>WAS</th>\n",
       "      <th>SF</th>\n",
       "      <th>SG</th>\n",
       "    </tr>\n",
       "  </thead>\n",
       "  <tbody>\n",
       "    <tr>\n",
       "      <th>2</th>\n",
       "      <td>2001</td>\n",
       "      <td>37</td>\n",
       "      <td>0</td>\n",
       "      <td>0</td>\n",
       "      <td>0</td>\n",
       "      <td>0</td>\n",
       "      <td>0</td>\n",
       "      <td>0</td>\n",
       "      <td>0</td>\n",
       "      <td>0</td>\n",
       "      <td>0</td>\n",
       "      <td>0</td>\n",
       "      <td>0</td>\n",
       "      <td>0</td>\n",
       "      <td>0</td>\n",
       "    </tr>\n",
       "    <tr>\n",
       "      <th>4</th>\n",
       "      <td>1999</td>\n",
       "      <td>35</td>\n",
       "      <td>0</td>\n",
       "      <td>0</td>\n",
       "      <td>0</td>\n",
       "      <td>0</td>\n",
       "      <td>0</td>\n",
       "      <td>0</td>\n",
       "      <td>0</td>\n",
       "      <td>0</td>\n",
       "      <td>0</td>\n",
       "      <td>0</td>\n",
       "      <td>0</td>\n",
       "      <td>0</td>\n",
       "      <td>0</td>\n",
       "    </tr>\n",
       "  </tbody>\n",
       "</table>\n",
       "</div>"
      ],
      "text/plain": [
       "   Year  Age  MP  FT  TRB  AST  STL  BLK  TOV  PF  PTS  CHI  WAS  SF  SG\n",
       "2  2001   37   0   0    0    0    0    0    0   0    0    0    0   0   0\n",
       "4  1999   35   0   0    0    0    0    0    0   0    0    0    0   0   0"
      ]
     },
     "execution_count": 43,
     "metadata": {},
     "output_type": "execute_result"
    }
   ],
   "source": [
    "print('error_index:',error_index)\n",
    "print('miss classification :',predictions[error_index])  #錯誤答案\n",
    "data_index=train.iloc[error_index].index  #這裡變數train是所有資料\n",
    "train.iloc[data_index]  #錯誤欄位的正確之原始資料"
   ]
  },
  {
   "cell_type": "markdown",
   "id": "274000df",
   "metadata": {},
   "source": [
    "改用設定隨機種子(random_state)為200，測試組比例佔30%進行分析"
   ]
  },
  {
   "cell_type": "code",
   "execution_count": 44,
   "id": "c22507b3",
   "metadata": {},
   "outputs": [],
   "source": [
    "X_train, X_test, y_train, y_test = train_test_split(X,y,test_size=0.3,random_state=200)"
   ]
  },
  {
   "cell_type": "code",
   "execution_count": 45,
   "id": "0ff21184",
   "metadata": {},
   "outputs": [],
   "source": [
    "#載入邏輯回歸\n",
    "from sklearn.linear_model import LogisticRegression"
   ]
  },
  {
   "cell_type": "code",
   "execution_count": 46,
   "id": "11c32897",
   "metadata": {},
   "outputs": [
    {
     "data": {
      "text/plain": [
       "LogisticRegression()"
      ]
     },
     "execution_count": 46,
     "metadata": {},
     "output_type": "execute_result"
    }
   ],
   "source": [
    "#建立訓練組邏輯迴歸模型\n",
    "logmodel = LogisticRegression()\n",
    "logmodel.fit(X_train,y_train)"
   ]
  },
  {
   "cell_type": "code",
   "execution_count": 47,
   "id": "cd83645a",
   "metadata": {},
   "outputs": [],
   "source": [
    "#使用模型進行測試集資料的預測\n",
    "predictions = logmodel.predict(X_test)\n",
    "predictions2 = logmodel.predict(X_train)"
   ]
  },
  {
   "cell_type": "code",
   "execution_count": 48,
   "id": "eb1de26a",
   "metadata": {},
   "outputs": [
    {
     "name": "stdout",
     "output_type": "stream",
     "text": [
      "[1 1 1 1 0 0]\n",
      "[0 0 1 1 1 1 1 1 1 1 0 1 0]\n"
     ]
    }
   ],
   "source": [
    "#ground truth\n",
    "print(y_test.values)\n",
    "print(y_train.values)"
   ]
  },
  {
   "cell_type": "code",
   "execution_count": 49,
   "id": "20538d7f",
   "metadata": {},
   "outputs": [
    {
     "name": "stdout",
     "output_type": "stream",
     "text": [
      "train accuracy: 1.0\n",
      "test accuracy: 0.6666666666666667\n"
     ]
    }
   ],
   "source": [
    "error_index2=np.where(predictions2!=y_train.values)[0]\n",
    "print('train accuracy:',1-len(error_index2)/len(X_train))\n",
    "error_index=np.where(predictions!=y_test.values)[0]\n",
    "print('test accuracy:',1-len(error_index)/len(X_test))"
   ]
  },
  {
   "cell_type": "code",
   "execution_count": 50,
   "id": "7199ecde",
   "metadata": {},
   "outputs": [
    {
     "name": "stdout",
     "output_type": "stream",
     "text": [
      "error_index: [0 3]\n",
      "miss classification : [0 0]\n"
     ]
    },
    {
     "data": {
      "text/html": [
       "<div>\n",
       "<style scoped>\n",
       "    .dataframe tbody tr th:only-of-type {\n",
       "        vertical-align: middle;\n",
       "    }\n",
       "\n",
       "    .dataframe tbody tr th {\n",
       "        vertical-align: top;\n",
       "    }\n",
       "\n",
       "    .dataframe thead th {\n",
       "        text-align: right;\n",
       "    }\n",
       "</style>\n",
       "<table border=\"1\" class=\"dataframe\">\n",
       "  <thead>\n",
       "    <tr style=\"text-align: right;\">\n",
       "      <th></th>\n",
       "      <th>Year</th>\n",
       "      <th>Age</th>\n",
       "      <th>MP</th>\n",
       "      <th>FT</th>\n",
       "      <th>TRB</th>\n",
       "      <th>AST</th>\n",
       "      <th>STL</th>\n",
       "      <th>BLK</th>\n",
       "      <th>TOV</th>\n",
       "      <th>PF</th>\n",
       "      <th>PTS</th>\n",
       "      <th>CHI</th>\n",
       "      <th>WAS</th>\n",
       "      <th>SF</th>\n",
       "      <th>SG</th>\n",
       "    </tr>\n",
       "  </thead>\n",
       "  <tbody>\n",
       "    <tr>\n",
       "      <th>0</th>\n",
       "      <td>2003</td>\n",
       "      <td>39</td>\n",
       "      <td>3031</td>\n",
       "      <td>266</td>\n",
       "      <td>497</td>\n",
       "      <td>311</td>\n",
       "      <td>123</td>\n",
       "      <td>39</td>\n",
       "      <td>173</td>\n",
       "      <td>171</td>\n",
       "      <td>1640</td>\n",
       "      <td>0</td>\n",
       "      <td>1</td>\n",
       "      <td>1</td>\n",
       "      <td>0</td>\n",
       "    </tr>\n",
       "    <tr>\n",
       "      <th>3</th>\n",
       "      <td>2000</td>\n",
       "      <td>36</td>\n",
       "      <td>0</td>\n",
       "      <td>0</td>\n",
       "      <td>0</td>\n",
       "      <td>0</td>\n",
       "      <td>0</td>\n",
       "      <td>0</td>\n",
       "      <td>0</td>\n",
       "      <td>0</td>\n",
       "      <td>0</td>\n",
       "      <td>0</td>\n",
       "      <td>0</td>\n",
       "      <td>0</td>\n",
       "      <td>0</td>\n",
       "    </tr>\n",
       "  </tbody>\n",
       "</table>\n",
       "</div>"
      ],
      "text/plain": [
       "   Year  Age    MP   FT  TRB  AST  STL  BLK  TOV   PF   PTS  CHI  WAS  SF  SG\n",
       "0  2003   39  3031  266  497  311  123   39  173  171  1640    0    1   1   0\n",
       "3  2000   36     0    0    0    0    0    0    0    0     0    0    0   0   0"
      ]
     },
     "execution_count": 50,
     "metadata": {},
     "output_type": "execute_result"
    }
   ],
   "source": [
    "print('error_index:',error_index)\n",
    "print('miss classification :',predictions[error_index])  #錯誤答案\n",
    "data_index=train.iloc[error_index].index  #這裡變數train是所有資料\n",
    "train.iloc[data_index]  #錯誤欄位的正確之原始資料"
   ]
  },
  {
   "cell_type": "markdown",
   "id": "8b08b8c6",
   "metadata": {},
   "source": [
    "改用設定隨機種子(random_state)為200，測試組比例佔20%進行分析"
   ]
  },
  {
   "cell_type": "code",
   "execution_count": 51,
   "id": "1709e379",
   "metadata": {},
   "outputs": [],
   "source": [
    "X_train, X_test, y_train, y_test = train_test_split(X,y,test_size=0.2,random_state=200)"
   ]
  },
  {
   "cell_type": "code",
   "execution_count": 52,
   "id": "e751aa98",
   "metadata": {},
   "outputs": [],
   "source": [
    "#載入邏輯回歸\n",
    "from sklearn.linear_model import LogisticRegression"
   ]
  },
  {
   "cell_type": "code",
   "execution_count": 53,
   "id": "c906d406",
   "metadata": {},
   "outputs": [
    {
     "data": {
      "text/plain": [
       "LogisticRegression()"
      ]
     },
     "execution_count": 53,
     "metadata": {},
     "output_type": "execute_result"
    }
   ],
   "source": [
    "#建立訓練組邏輯迴歸模型\n",
    "logmodel = LogisticRegression()\n",
    "logmodel.fit(X_train,y_train)"
   ]
  },
  {
   "cell_type": "code",
   "execution_count": 54,
   "id": "e738f2e9",
   "metadata": {},
   "outputs": [],
   "source": [
    "#使用模型進行測試集資料的預測\n",
    "predictions = logmodel.predict(X_test)\n",
    "predictions2 = logmodel.predict(X_train)"
   ]
  },
  {
   "cell_type": "code",
   "execution_count": 55,
   "id": "7888a135",
   "metadata": {},
   "outputs": [
    {
     "name": "stdout",
     "output_type": "stream",
     "text": [
      "[1 1 1 1]\n",
      "[0 0 0 0 1 1 1 1 1 1 1 1 0 1 0]\n"
     ]
    }
   ],
   "source": [
    "#ground truth\n",
    "print(y_test.values)\n",
    "print(y_train.values)"
   ]
  },
  {
   "cell_type": "code",
   "execution_count": 56,
   "id": "82ec6a5a",
   "metadata": {},
   "outputs": [
    {
     "name": "stdout",
     "output_type": "stream",
     "text": [
      "train accuracy: 1.0\n",
      "test accuracy: 0.5\n"
     ]
    }
   ],
   "source": [
    "error_index2=np.where(predictions2!=y_train.values)[0]\n",
    "print('train accuracy:',1-len(error_index2)/len(X_train))\n",
    "error_index=np.where(predictions!=y_test.values)[0]\n",
    "print('test accuracy:',1-len(error_index)/len(X_test))"
   ]
  },
  {
   "cell_type": "code",
   "execution_count": 57,
   "id": "3c183e1b",
   "metadata": {},
   "outputs": [
    {
     "name": "stdout",
     "output_type": "stream",
     "text": [
      "error_index: [0 3]\n",
      "miss classification : [0 0]\n"
     ]
    },
    {
     "data": {
      "text/html": [
       "<div>\n",
       "<style scoped>\n",
       "    .dataframe tbody tr th:only-of-type {\n",
       "        vertical-align: middle;\n",
       "    }\n",
       "\n",
       "    .dataframe tbody tr th {\n",
       "        vertical-align: top;\n",
       "    }\n",
       "\n",
       "    .dataframe thead th {\n",
       "        text-align: right;\n",
       "    }\n",
       "</style>\n",
       "<table border=\"1\" class=\"dataframe\">\n",
       "  <thead>\n",
       "    <tr style=\"text-align: right;\">\n",
       "      <th></th>\n",
       "      <th>Year</th>\n",
       "      <th>Age</th>\n",
       "      <th>MP</th>\n",
       "      <th>FT</th>\n",
       "      <th>TRB</th>\n",
       "      <th>AST</th>\n",
       "      <th>STL</th>\n",
       "      <th>BLK</th>\n",
       "      <th>TOV</th>\n",
       "      <th>PF</th>\n",
       "      <th>PTS</th>\n",
       "      <th>CHI</th>\n",
       "      <th>WAS</th>\n",
       "      <th>SF</th>\n",
       "      <th>SG</th>\n",
       "    </tr>\n",
       "  </thead>\n",
       "  <tbody>\n",
       "    <tr>\n",
       "      <th>0</th>\n",
       "      <td>2003</td>\n",
       "      <td>39</td>\n",
       "      <td>3031</td>\n",
       "      <td>266</td>\n",
       "      <td>497</td>\n",
       "      <td>311</td>\n",
       "      <td>123</td>\n",
       "      <td>39</td>\n",
       "      <td>173</td>\n",
       "      <td>171</td>\n",
       "      <td>1640</td>\n",
       "      <td>0</td>\n",
       "      <td>1</td>\n",
       "      <td>1</td>\n",
       "      <td>0</td>\n",
       "    </tr>\n",
       "    <tr>\n",
       "      <th>3</th>\n",
       "      <td>2000</td>\n",
       "      <td>36</td>\n",
       "      <td>0</td>\n",
       "      <td>0</td>\n",
       "      <td>0</td>\n",
       "      <td>0</td>\n",
       "      <td>0</td>\n",
       "      <td>0</td>\n",
       "      <td>0</td>\n",
       "      <td>0</td>\n",
       "      <td>0</td>\n",
       "      <td>0</td>\n",
       "      <td>0</td>\n",
       "      <td>0</td>\n",
       "      <td>0</td>\n",
       "    </tr>\n",
       "  </tbody>\n",
       "</table>\n",
       "</div>"
      ],
      "text/plain": [
       "   Year  Age    MP   FT  TRB  AST  STL  BLK  TOV   PF   PTS  CHI  WAS  SF  SG\n",
       "0  2003   39  3031  266  497  311  123   39  173  171  1640    0    1   1   0\n",
       "3  2000   36     0    0    0    0    0    0    0    0     0    0    0   0   0"
      ]
     },
     "execution_count": 57,
     "metadata": {},
     "output_type": "execute_result"
    }
   ],
   "source": [
    "print('error_index:',error_index)\n",
    "print('miss classification :',predictions[error_index])  #錯誤答案\n",
    "data_index=train.iloc[error_index].index  #這裡變數train是所有資料\n",
    "train.iloc[data_index]  #錯誤欄位的正確之原始資料"
   ]
  },
  {
   "cell_type": "code",
   "execution_count": null,
   "id": "41afc3c3",
   "metadata": {},
   "outputs": [],
   "source": []
  },
  {
   "cell_type": "code",
   "execution_count": null,
   "id": "2f6a3316",
   "metadata": {},
   "outputs": [],
   "source": []
  }
 ],
 "metadata": {
  "kernelspec": {
   "display_name": "Python 3",
   "language": "python",
   "name": "python3"
  },
  "language_info": {
   "codemirror_mode": {
    "name": "ipython",
    "version": 3
   },
   "file_extension": ".py",
   "mimetype": "text/x-python",
   "name": "python",
   "nbconvert_exporter": "python",
   "pygments_lexer": "ipython3",
   "version": "3.8.10"
  }
 },
 "nbformat": 4,
 "nbformat_minor": 5
}
