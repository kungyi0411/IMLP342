{
 "cells": [
  {
   "cell_type": "markdown",
   "metadata": {},
   "source": [
    "# 乳癌資料庫預測SVM分類\n",
    ">使用scikit-learn 機器學習套件裡的SVR演算法\n",
    "\n",
    "* (一)引入函式庫及內建乳癌資料集<br>\n",
    "引入之函式庫如下<br>\n",
    "sklearn.datasets: 用來匯入內建之乳癌資料集`datasets.load_breast_cancer()`<br>\n",
    "sklearn.SVR: 支持向量機回歸分析之演算法<br>\n",
    "matplotlib.pyplot: 用來繪製影像"
   ]
  },
  {
   "cell_type": "code",
   "execution_count": 1,
   "metadata": {},
   "outputs": [],
   "source": [
    "import sklearn\n",
    "from sklearn import svm\n",
    "from sklearn import datasets\n",
    "from sklearn.model_selection import train_test_split\n",
    "from sklearn.metrics import accuracy_score\n",
    "import pandas as pd\n",
    "import numpy as np\n",
    "import matplotlib.pyplot as plt"
   ]
  },
  {
   "cell_type": "markdown",
   "metadata": {},
   "source": [
    "## Step1. 下載資料"
   ]
  },
  {
   "cell_type": "code",
   "execution_count": 2,
   "metadata": {},
   "outputs": [
    {
     "name": "stdout",
     "output_type": "stream",
     "text": [
      "Features:  ['mean radius' 'mean texture' 'mean perimeter' 'mean area'\n",
      " 'mean smoothness' 'mean compactness' 'mean concavity'\n",
      " 'mean concave points' 'mean symmetry' 'mean fractal dimension'\n",
      " 'radius error' 'texture error' 'perimeter error' 'area error'\n",
      " 'smoothness error' 'compactness error' 'concavity error'\n",
      " 'concave points error' 'symmetry error' 'fractal dimension error'\n",
      " 'worst radius' 'worst texture' 'worst perimeter' 'worst area'\n",
      " 'worst smoothness' 'worst compactness' 'worst concavity'\n",
      " 'worst concave points' 'worst symmetry' 'worst fractal dimension']\n",
      "Labels:  ['malignant' 'benign']\n"
     ]
    }
   ],
   "source": [
    "cancer = datasets.load_breast_cancer()\n",
    "print(\"Features: \", cancer.feature_names)\n",
    "print(\"Labels: \", cancer.target_names)"
   ]
  },
  {
   "cell_type": "code",
   "execution_count": 3,
   "metadata": {},
   "outputs": [
    {
     "data": {
      "text/plain": [
       "(569, 30)"
      ]
     },
     "execution_count": 3,
     "metadata": {},
     "output_type": "execute_result"
    }
   ],
   "source": [
    "cancer.data.shape"
   ]
  },
  {
   "cell_type": "markdown",
   "metadata": {},
   "source": [
    "## Step2. 區分訓練集與測試集"
   ]
  },
  {
   "cell_type": "code",
   "execution_count": 4,
   "metadata": {},
   "outputs": [],
   "source": [
    "x = cancer.data \n",
    "y = cancer.target  \n",
    "\n",
    "x_train, x_test, y_train, y_test = sklearn.model_selection.train_test_split(x, y, test_size=0.2)"
   ]
  },
  {
   "cell_type": "code",
   "execution_count": 5,
   "metadata": {},
   "outputs": [
    {
     "name": "stdout",
     "output_type": "stream",
     "text": [
      "[[1.227e+01 2.997e+01 7.742e+01 4.654e+02 7.699e-02 3.398e-02 0.000e+00\n",
      "  0.000e+00 1.701e-01 5.960e-02 4.455e-01 3.647e+00 2.884e+00 3.513e+01\n",
      "  7.339e-03 8.243e-03 0.000e+00 0.000e+00 3.141e-02 3.136e-03 1.345e+01\n",
      "  3.805e+01 8.508e+01 5.589e+02 9.422e-02 5.213e-02 0.000e+00 0.000e+00\n",
      "  2.409e-01 6.743e-02]\n",
      " [1.754e+01 1.932e+01 1.151e+02 9.516e+02 8.968e-02 1.198e-01 1.036e-01\n",
      "  7.488e-02 1.506e-01 5.491e-02 3.971e-01 8.282e-01 3.088e+00 4.073e+01\n",
      "  6.090e-03 2.569e-02 2.713e-02 1.345e-02 1.594e-02 2.658e-03 2.042e+01\n",
      "  2.584e+01 1.395e+02 1.239e+03 1.381e-01 3.420e-01 3.508e-01 1.939e-01\n",
      "  2.928e-01 7.867e-02]\n",
      " [1.174e+01 1.469e+01 7.631e+01 4.260e+02 8.099e-02 9.661e-02 6.726e-02\n",
      "  2.639e-02 1.499e-01 6.758e-02 1.924e-01 6.417e-01 1.345e+00 1.304e+01\n",
      "  6.982e-03 3.916e-02 4.017e-02 1.528e-02 2.260e-02 6.822e-03 1.245e+01\n",
      "  1.760e+01 8.125e+01 4.738e+02 1.073e-01 2.793e-01 2.690e-01 1.056e-01\n",
      "  2.604e-01 9.879e-02]\n",
      " [1.462e+01 2.402e+01 9.457e+01 6.627e+02 8.974e-02 8.606e-02 3.102e-02\n",
      "  2.957e-02 1.685e-01 5.866e-02 3.721e-01 1.111e+00 2.279e+00 3.376e+01\n",
      "  4.868e-03 1.818e-02 1.121e-02 8.606e-03 2.085e-02 2.893e-03 1.611e+01\n",
      "  2.911e+01 1.029e+02 8.037e+02 1.115e-01 1.766e-01 9.189e-02 6.946e-02\n",
      "  2.522e-01 7.246e-02]\n",
      " [1.368e+01 1.633e+01 8.776e+01 5.755e+02 9.277e-02 7.255e-02 1.752e-02\n",
      "  1.880e-02 1.631e-01 6.155e-02 2.047e-01 4.801e-01 1.373e+00 1.725e+01\n",
      "  3.828e-03 7.228e-03 7.078e-03 5.077e-03 1.054e-02 1.697e-03 1.585e+01\n",
      "  2.020e+01 1.016e+02 7.734e+02 1.264e-01 1.564e-01 1.206e-01 8.704e-02\n",
      "  2.806e-01 7.782e-02]] [1 0 1 1 1]\n"
     ]
    }
   ],
   "source": [
    "print(x_train[:5], y_train[:5])"
   ]
  },
  {
   "cell_type": "markdown",
   "metadata": {},
   "source": [
    "## Step3. 建模"
   ]
  },
  {
   "cell_type": "code",
   "execution_count": 6,
   "metadata": {},
   "outputs": [
    {
     "data": {
      "text/plain": [
       "SVC(kernel='linear')"
      ]
     },
     "execution_count": 6,
     "metadata": {},
     "output_type": "execute_result"
    }
   ],
   "source": [
    "clf = svm.SVC(kernel='linear')\n",
    "clf.fit(x_train, y_train)"
   ]
  },
  {
   "cell_type": "markdown",
   "metadata": {},
   "source": [
    "## Step4. 預測\n",
    "\n",
    "```\n",
    "\n",
    "```\n"
   ]
  },
  {
   "cell_type": "code",
   "execution_count": 7,
   "metadata": {},
   "outputs": [],
   "source": [
    "y_pred = clf.predict(x_test)"
   ]
  },
  {
   "cell_type": "markdown",
   "metadata": {},
   "source": [
    "## Step5. 準確度分析"
   ]
  },
  {
   "cell_type": "code",
   "execution_count": 8,
   "metadata": {},
   "outputs": [
    {
     "name": "stdout",
     "output_type": "stream",
     "text": [
      "Accuracy: 0.956140350877193\n"
     ]
    }
   ],
   "source": [
    "from sklearn import metrics\n",
    "print(\"Accuracy:\",metrics.accuracy_score(y_test, y_pred))"
   ]
  },
  {
   "cell_type": "code",
   "execution_count": 9,
   "metadata": {},
   "outputs": [
    {
     "name": "stdout",
     "output_type": "stream",
     "text": [
      "Precision: 0.9605263157894737\n"
     ]
    }
   ],
   "source": [
    "print(\"Precision:\",metrics.precision_score(y_test, y_pred))"
   ]
  },
  {
   "cell_type": "code",
   "execution_count": 10,
   "metadata": {},
   "outputs": [
    {
     "name": "stdout",
     "output_type": "stream",
     "text": [
      "Recall: 0.9733333333333334\n"
     ]
    }
   ],
   "source": [
    "print(\"Recall:\",metrics.recall_score(y_test, y_pred))"
   ]
  }
 ],
 "metadata": {
  "kernelspec": {
   "display_name": "Python 3",
   "language": "python",
   "name": "python3"
  },
  "language_info": {
   "codemirror_mode": {
    "name": "ipython",
    "version": 3
   },
   "file_extension": ".py",
   "mimetype": "text/x-python",
   "name": "python",
   "nbconvert_exporter": "python",
   "pygments_lexer": "ipython3",
   "version": "3.8.10"
  }
 },
 "nbformat": 4,
 "nbformat_minor": 2
}
